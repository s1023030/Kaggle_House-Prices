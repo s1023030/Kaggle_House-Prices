{
 "cells": [
  {
   "cell_type": "code",
   "execution_count": 29,
   "metadata": {},
   "outputs": [],
   "source": [
    "from Preprocessing import fill_nan\n",
    "import pandas as pd\n",
    "data=pd.read_csv(join(\"data\",\"test.csv\"),index_col=0)\n",
    "data,LE_table=fill_nan(data)\n",
    "data=data.sort_index(axis=0)\n",
    "import pickle\n",
    "with open(join('model','RFR.pickle'),'rb') as f:\n",
    "    model=pickle.load(f)\n",
    "    answer=model.predict(data)\n",
    "    ans_df=pd.DataFrame({\"SalePrice\":answer},index=list(range(1461,2920)))\n",
    "    ans_df.index.name='Id'\n",
    "    ans_df.to_csv('answer.csv')"
   ]
  },
  {
   "cell_type": "code",
   "execution_count": null,
   "metadata": {
    "collapsed": true
   },
   "outputs": [],
   "source": []
  }
 ],
 "metadata": {
  "kernelspec": {
   "display_name": "Python 3",
   "language": "python",
   "name": "python3"
  },
  "language_info": {
   "codemirror_mode": {
    "name": "ipython",
    "version": 3
   },
   "file_extension": ".py",
   "mimetype": "text/x-python",
   "name": "python",
   "nbconvert_exporter": "python",
   "pygments_lexer": "ipython3",
   "version": "3.5.4"
  }
 },
 "nbformat": 4,
 "nbformat_minor": 2
}
