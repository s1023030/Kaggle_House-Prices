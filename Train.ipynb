{
 "cells": [
  {
   "cell_type": "code",
   "execution_count": 3,
   "metadata": {},
   "outputs": [
    {
     "name": "stdout",
     "output_type": "stream",
     "text": [
      "Id\n",
      "890     149500\n",
      "989     195000\n",
      "463      62383\n",
      "370     162000\n",
      "432      79900\n",
      "1144     80000\n",
      "726     120500\n",
      "897     106500\n",
      "216     134450\n",
      "1091     92900\n",
      "1199    178000\n",
      "1127    174000\n",
      "995     337500\n",
      "1103    135000\n",
      "1409    125500\n",
      "807     135500\n",
      "1170    625000\n",
      "76       91000\n",
      "758     158900\n",
      "1397    160000\n",
      "1458    266500\n",
      "191     315000\n",
      "485     132500\n",
      "1138     94000\n",
      "892     172500\n",
      "1396    281213\n",
      "420     142000\n",
      "1166    233170\n",
      "314     375000\n",
      "1320    111000\n",
      "         ...  \n",
      "961     116500\n",
      "970     140000\n",
      "643     345000\n",
      "721     275000\n",
      "369     132000\n",
      "1344    177000\n",
      "19      159000\n",
      "861     189950\n",
      "1416    175900\n",
      "176     243000\n",
      "673     165000\n",
      "620     305000\n",
      "707     302000\n",
      "631     124000\n",
      "323     301000\n",
      "659      97500\n",
      "1163    129000\n",
      "315     178000\n",
      "387      81000\n",
      "820     224000\n",
      "484     164000\n",
      "808     223500\n",
      "65      219500\n",
      "249     180000\n",
      "750      98000\n",
      "1368    127000\n",
      "570     135960\n",
      "1023     87000\n",
      "675     140000\n",
      "1108    274725\n",
      "Name: SalePrice, Length: 1168, dtype: int64\n",
      "18838.000684931507\n"
     ]
    },
    {
     "name": "stderr",
     "output_type": "stream",
     "text": [
      "C:\\Users\\曾麒瑞\\AppData\\Roaming\\Python\\Python35\\site-packages\\sklearn\\ensemble\\forest.py:248: FutureWarning: The default value of n_estimators will change from 10 in version 0.20 to 100 in 0.22.\n",
      "  \"10 in version 0.20 to 100 in 0.22.\", FutureWarning)\n"
     ]
    },
    {
     "data": {
      "text/plain": [
       "\"with open('save/clf.pickle', 'rb') as f:\\n    clf2 = pickle.load(f)\\n    #测试读取后的Model\\n    print(clf2.predict(X[0:1]))\\n\""
      ]
     },
     "execution_count": 3,
     "metadata": {},
     "output_type": "execute_result"
    }
   ],
   "source": [
    "from sklearn.model_selection import train_test_split\n",
    "import pandas as pd\n",
    "import numpy as np\n",
    "from os.path import join\n",
    "path=join('data','fillnan_train.csv')\n",
    "data=pd.read_csv(path,index_col=0)\n",
    "\n",
    "target = data.SalePrice\n",
    "predictors = data.drop(['SalePrice'], axis=1)\n",
    "\n",
    "X_train, X_test, y_train, y_test = train_test_split(predictors, \n",
    "                                                    target,\n",
    "                                                    train_size=0.8, \n",
    "                                                    test_size=0.2, \n",
    "                                                    random_state=0)\n",
    "print(y_train)\n",
    "from sklearn.ensemble import RandomForestRegressor\n",
    "from sklearn.metrics import mean_absolute_error\n",
    "model = RandomForestRegressor()\n",
    "def score_dataset(X_train, X_test, y_train, y_test):\n",
    "    model.fit(X_train, y_train)\n",
    "    preds = model.predict(X_test)\n",
    "    return mean_absolute_error(y_test, preds)\n",
    "print(score_dataset(X_train, X_test, y_train, y_test))\n",
    "\n",
    "\n",
    "import pickle\n",
    "with open(join('model','RFR.pickle'), 'wb') as f:\n",
    "    pickle.dump(model, f)\n",
    "\n",
    "#读取Model\n",
    "'''with open('save/clf.pickle', 'rb') as f:\n",
    "    clf2 = pickle.load(f)\n",
    "    #测试读取后的Model\n",
    "    print(clf2.predict(X[0:1]))\n",
    "'''"
   ]
  },
  {
   "cell_type": "code",
   "execution_count": null,
   "metadata": {
    "collapsed": true
   },
   "outputs": [],
   "source": []
  }
 ],
 "metadata": {
  "kernelspec": {
   "display_name": "Python 3",
   "language": "python",
   "name": "python3"
  },
  "language_info": {
   "codemirror_mode": {
    "name": "ipython",
    "version": 3
   },
   "file_extension": ".py",
   "mimetype": "text/x-python",
   "name": "python",
   "nbconvert_exporter": "python",
   "pygments_lexer": "ipython3",
   "version": "3.5.4"
  }
 },
 "nbformat": 4,
 "nbformat_minor": 2
}
